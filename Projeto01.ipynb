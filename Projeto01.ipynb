{
 "cells": [
  {
   "cell_type": "code",
   "execution_count": 22,
   "id": "cb535c46-b9dc-4cec-88de-1abb448cd237",
   "metadata": {},
   "outputs": [],
   "source": [
    "# Variáveis\n",
    "import random\n",
    "import re\n",
    "palavra_forca = []\n",
    "palavras_adivinhadas = []\n",
    "n_jogadas = 0\n",
    "letra = \"\"\n",
    "qtd_letra = 0;\n",
    "pais = random.choice([\"Albânia\", \"Guatemala\", \"Honduras\", \"Angola\", \n",
    "                      \"Arábia Saudita\", \"Áustria\", \"Cabo Verde\", \n",
    "                      \"Congo\", \"Singapura\", \"Filipinas\"])\n",
    "tamanho = len(pais)"
   ]
  },
  {
   "cell_type": "code",
   "execution_count": 36,
   "id": "ff03a315-20be-409d-b515-16c6d30fb7b9",
   "metadata": {},
   "outputs": [
    {
     "ename": "IndentationError",
     "evalue": "unexpected indent (3540700865.py, line 10)",
     "output_type": "error",
     "traceback": [
      "\u001b[1;36m  Cell \u001b[1;32mIn[36], line 10\u001b[1;36m\u001b[0m\n\u001b[1;33m    qtd_letra = len(re.findall(letra, pais))\u001b[0m\n\u001b[1;37m    ^\u001b[0m\n\u001b[1;31mIndentationError\u001b[0m\u001b[1;31m:\u001b[0m unexpected indent\n"
     ]
    }
   ],
   "source": [
    "def jogo():\n",
    "    cria()\n",
    "    palavra_forca\n",
    "    \n",
    "    while n_jogadas < 5:\n",
    "        # Pergunta \n",
    "        letra = input(\"Informe a letra\")\n",
    "        \n",
    "        # Verifica se tem a letra \n",
    "        qtd_letra = len(re.findall(letra, pais))\n",
    "        n_jogadas = n_jogadas + 1"
   ]
  },
  {
   "cell_type": "code",
   "execution_count": 23,
   "id": "d365f15b-d898-4fa3-b066-80d6a7a77b69",
   "metadata": {},
   "outputs": [],
   "source": [
    "def cria():\n",
    "    for i in range(tamanho):\n",
    "        palavra_forca.append(\" _ \")\n",
    "        i = i + 1"
   ]
  },
  {
   "cell_type": "code",
   "execution_count": 24,
   "id": "de46a960-7c84-4be5-ae96-82ea11ee2d6d",
   "metadata": {},
   "outputs": [
    {
     "data": {
      "text/plain": [
       "[' _ ', ' _ ', ' _ ', ' _ ', ' _ ', ' _ ', ' _ ', ' _ ']"
      ]
     },
     "execution_count": 24,
     "metadata": {},
     "output_type": "execute_result"
    }
   ],
   "source": []
  }
 ],
 "metadata": {
  "kernelspec": {
   "display_name": "Python 3 (ipykernel)",
   "language": "python",
   "name": "python3"
  },
  "language_info": {
   "codemirror_mode": {
    "name": "ipython",
    "version": 3
   },
   "file_extension": ".py",
   "mimetype": "text/x-python",
   "name": "python",
   "nbconvert_exporter": "python",
   "pygments_lexer": "ipython3",
   "version": "3.12.4"
  }
 },
 "nbformat": 4,
 "nbformat_minor": 5
}
