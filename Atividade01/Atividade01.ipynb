{
 "cells": [
  {
   "cell_type": "code",
   "execution_count": 3,
   "metadata": {},
   "outputs": [],
   "source": [
    "musica = '''\n",
    "Todos os dias quando acordo\n",
    "Não tenho mais\n",
    "O tempo que passou\n",
    "Mas tenho muito tempo\n",
    "Temos todo o tempo do mundo\n",
    "Todos os dias\n",
    "Antes de dormir\n",
    "Lembro e esqueço\n",
    "Como foi o dia\n",
    "Sempre em frente\n",
    "Não temos tempo a perder\n",
    "Nosso suor sagrado\n",
    "É bem mais belo\n",
    "Que esse sangue amargo\n",
    "E tão sério\n",
    "E selvagem! Selvagem!\n",
    "Selvagem!\n",
    "Veja o sol\n",
    "Dessa manhã tão cinza\n",
    "A tempestade que chega\n",
    "É da cor dos teus olhos\n",
    "Castanhos\n",
    "Então me abraça forte\n",
    "E diz mais uma vez\n",
    "Que já estamos\n",
    "Distantes de tudo\n",
    "Temos nosso próprio tempo\n",
    "Temos nosso próprio tempo\n",
    "Temos nosso próprio tempo\n",
    "Não tenho medo do escuro\n",
    "Mas deixe as luzes\n",
    "Acesas agora\n",
    "O que foi escondido\n",
    "É o que se escondeu\n",
    "E o que foi prometido\n",
    "Ninguém prometeu\n",
    "Nem foi tempo perdido\n",
    "Somos tão jovens\n",
    "Tão jovens! Tão jovens!\n",
    "'''"
   ]
  },
  {
   "cell_type": "code",
   "execution_count": 5,
   "metadata": {},
   "outputs": [
    {
     "name": "stdout",
     "output_type": "stream",
     "text": [
      "A letra a aparece  39\n"
     ]
    }
   ],
   "source": [
    "import re\n",
    "resultado = len(re.findall(\"a\", musica))\n",
    "print(\"A letra a aparece \", resultado)"
   ]
  },
  {
   "cell_type": "code",
   "execution_count": 6,
   "metadata": {},
   "outputs": [
    {
     "name": "stdout",
     "output_type": "stream",
     "text": [
      "8\n"
     ]
    }
   ],
   "source": [
    "resultado = len(re.findall(\"tempo\", musica))\n",
    "print(resultado)"
   ]
  },
  {
   "cell_type": "code",
   "execution_count": 11,
   "metadata": {},
   "outputs": [
    {
     "name": "stdout",
     "output_type": "stream",
     "text": [
      "['Selvagem', 'Tão']\n"
     ]
    }
   ],
   "source": [
    "resultado = re.findall(r'! (\\w+)', musica)\n",
    "print(resultado)"
   ]
  },
  {
   "cell_type": "code",
   "execution_count": 13,
   "metadata": {},
   "outputs": [
    {
     "name": "stdout",
     "output_type": "stream",
     "text": [
      "['sangue']\n"
     ]
    }
   ],
   "source": [
    "resultado = re.findall(r'esse (\\w+) amargo', musica)\n",
    "print(resultado)"
   ]
  },
  {
   "cell_type": "code",
   "execution_count": 19,
   "metadata": {},
   "outputs": [
    {
     "name": "stdout",
     "output_type": "stream",
     "text": [
      "['Todos', 'os', 'dias', 'quando', 'acordo', 'Não', 'tenho', 'mais', 'O', 'tempo', 'que', 'passou', 'Mas', 'tenho', 'muito', 'tempo', 'Temos', 'todo', 'o', 'tempo', 'do', 'mundo', 'Todos', 'os', 'dias', 'Antes', 'de', 'dormir', 'Lembro', 'e', 'esqueço', 'Como', 'foi', 'o', 'dia', 'Sempre', 'em', 'frente', 'Não', 'temos', 'tempo', 'a', 'perder', 'Nosso', 'suor', 'sagrado', 'É', 'bem', 'mais', 'belo', 'Que', 'esse', 'sangue', 'amargo', 'E', 'tão', 'sério', 'E', 'selvagem', 'Selvagem', 'Selvagem', 'Veja', 'o', 'sol', 'Dessa', 'manhã', 'tão', 'cinza', 'A', 'tempestade', 'que', 'chega', 'É', 'da', 'cor', 'dos', 'teus', 'olhos', 'Castanhos', 'Então', 'me', 'abraça', 'forte', 'E', 'diz', 'mais', 'uma', 'vez', 'Que', 'já', 'estamos', 'Distantes', 'de', 'tudo', 'Temos', 'nosso', 'próprio', 'tempo', 'Temos', 'nosso', 'próprio', 'tempo', 'Temos', 'nosso', 'próprio', 'tempo', 'Não', 'tenho', 'medo', 'do', 'escuro', 'Mas', 'deixe', 'as', 'luzes', 'Acesas', 'agora', 'O', 'que', 'foi', 'escondido', 'É', 'o', 'que', 'se', 'escondeu', 'E', 'o', 'que', 'foi', 'prometido', 'Ninguém', 'prometeu', 'Nem', 'foi', 'tempo', 'perdido', 'Somos', 'tão', 'jovens', 'Tão', 'jovens', 'Tão', 'jovens']\n"
     ]
    }
   ],
   "source": [
    "resultado = re.findall(r'\\b[^\\W~´]+\\b', musica)\n",
    "print(resultado)"
   ]
  },
  {
   "cell_type": "code",
   "execution_count": 28,
   "metadata": {},
   "outputs": [
    {
     "name": "stdout",
     "output_type": "stream",
     "text": [
      "['Todos', 'os', 'dias', 'quando', 'acordo', 'Não', 'tenho', 'mais', 'O', 'tempo', 'que', 'passou', 'Mas', 'tenho', 'muito', 'tempo', 'Temos', 'todo', 'o', 'tempo', 'do', 'mundo', 'Todos', 'os', 'dias', 'Antes', 'de', 'dormir', 'Lembro', 'e', 'Como', 'foi', 'o', 'dia', 'Sempre', 'em', 'frente', 'Não', 'temos', 'tempo', 'a', 'perder', 'Nosso', 'suor', 'sagrado', 'bem', 'mais', 'belo', 'Que', 'esse', 'sangue', 'amargo', 'E', 'tão', 'sério', 'E', 'selvagem', 'Selvagem', 'Selvagem', 'Veja', 'o', 'sol', 'Dessa', 'manhã', 'tão', 'cinza', 'A', 'tempestade', 'que', 'chega', 'da', 'cor', 'dos', 'teus', 'olhos', 'Castanhos', 'Então', 'me', 'forte', 'E', 'diz', 'mais', 'uma', 'vez', 'Que', 'já', 'estamos', 'Distantes', 'de', 'tudo', 'Temos', 'nosso', 'tempo', 'Temos', 'nosso', 'tempo', 'Temos', 'nosso', 'tempo', 'Não', 'tenho', 'medo', 'do', 'escuro', 'Mas', 'deixe', 'as', 'luzes', 'Acesas', 'agora', 'O', 'que', 'foi', 'escondido', 'o', 'que', 'se', 'escondeu', 'E', 'o', 'que', 'foi', 'prometido', 'Ninguém', 'prometeu', 'Nem', 'foi', 'tempo', 'perdido', 'Somos', 'tão', 'jovens', 'Tão', 'jovens', 'Tão', 'jovens']\n"
     ]
    }
   ],
   "source": [
    "# ERRADO CONSETAR \n",
    "resultado = re.findall(r'\\b([a-zA-Z]*) (?=[áãé])', musica)\n",
    "print(resultado)"
   ]
  },
  {
   "cell_type": "code",
   "execution_count": 29,
   "metadata": {},
   "outputs": [],
   "source": [
    "# Atividade 01\n",
    "lista = [3,4,5]"
   ]
  },
  {
   "cell_type": "code",
   "execution_count": 30,
   "metadata": {},
   "outputs": [],
   "source": [
    "def cubo(x):\n",
    "    return x ** 3"
   ]
  },
  {
   "cell_type": "code",
   "execution_count": 32,
   "metadata": {},
   "outputs": [
    {
     "name": "stdout",
     "output_type": "stream",
     "text": [
      "[27, 64, 125]\n"
     ]
    }
   ],
   "source": [
    "resultado = list(map(cubo, lista))\n",
    "print(resultado)"
   ]
  },
  {
   "cell_type": "code",
   "execution_count": 42,
   "metadata": {},
   "outputs": [
    {
     "name": "stdout",
     "output_type": "stream",
     "text": [
      "[('DATA', 'data', 4), ('SCIENCE', 'science', 7), ('AJUDA', 'ajuda', 5), ('NA', 'na', 2), ('SOLUÇÃO', 'solução', 7), ('DE', 'de', 2), ('PROBLEMAS', 'problemas', 9), ('COMPLEXOS.', 'complexos.', 10)]\n"
     ]
    }
   ],
   "source": [
    "# Atividade 02\n",
    "lista = \"Data Science ajuda na solução de problemas complexos.\".split()\n",
    "\n",
    "def funcao(w):\n",
    "        return w.upper(), w.lower(), len(w)\n",
    "\n",
    "resultado = list(map(funcao, lista))\n",
    "\n",
    "print(resultado)"
   ]
  }
 ],
 "metadata": {
  "kernelspec": {
   "display_name": "Python 3",
   "language": "python",
   "name": "python3"
  },
  "language_info": {
   "codemirror_mode": {
    "name": "ipython",
    "version": 3
   },
   "file_extension": ".py",
   "mimetype": "text/x-python",
   "name": "python",
   "nbconvert_exporter": "python",
   "pygments_lexer": "ipython3",
   "version": "3.12.2"
  }
 },
 "nbformat": 4,
 "nbformat_minor": 2
}
