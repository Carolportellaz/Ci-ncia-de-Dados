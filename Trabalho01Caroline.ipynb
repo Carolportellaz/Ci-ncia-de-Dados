{
 "cells": [
  {
   "cell_type": "code",
   "execution_count": 1,
   "id": "cb535c46-b9dc-4cec-88de-1abb448cd237",
   "metadata": {},
   "outputs": [],
   "source": [
    "# Variáveis\n",
    "import random\n",
    "import re\n",
    "palavra_forca = []\n",
    "palavras_adivinhadas = []\n",
    "letra = \"\"\n",
    "qtd_letra = 0\n",
    "escolha = 1\n",
    "chute = \"\"\n",
    "lista_palavras = []"
   ]
  },
  {
   "cell_type": "code",
   "execution_count": 2,
   "id": "1c0923af-65b5-4e3c-8259-a1cc837f77ff",
   "metadata": {},
   "outputs": [
    {
     "data": {
      "text/plain": [
       "'❤'"
      ]
     },
     "execution_count": 2,
     "metadata": {},
     "output_type": "execute_result"
    }
   ],
   "source": [
    "def ce(code):\n",
    "    EXTENDED = [\n",
    "        '\\u00C7', '\\u00FC', '\\u00E9', '\\u00E2', '\\u00E4', '\\u00E0', '\\u00E5', '\\u00E7',\n",
    "        '\\u00EA', '\\u00EB', '\\u00E8', '\\u00EF', '\\u00EE', '\\u00EC', '\\u00C4', '\\u00C5',\n",
    "        '\\u00C9', '\\u00E6', '\\u00C6', '\\u00F4', '\\u00F6', '\\u00F2', '\\u00FB', '\\u00F9',\n",
    "        '\\u00FF', '\\u00D6', '\\u00DC', '\\u00A2', '\\u00A3', '\\u00A5', '\\u20A7', '\\u0192',\n",
    "        '\\u00E1', '\\u00ED', '\\u00F3', '\\u00FA', '\\u00F1', '\\u00D1', '\\u00AA', '\\u00BA',\n",
    "        '\\u00BF', '\\u2310', '\\u00AC', '\\u00BD', '\\u00BC', '\\u00A1', '\\u00AB', '\\u00BB',\n",
    "        '\\u2591', '\\u2592', '\\u2593', '\\u2502', '\\u2524', '\\u2561', '\\u2562', '\\u2556',\n",
    "        '\\u2555', '\\u2563', '\\u2551', '\\u2557', '\\u255D', '\\u255C', '\\u255B', '\\u2510',\n",
    "        '\\u2514', '\\u2534', '\\u252C', '\\u251C', '\\u2500', '\\u253C', '\\u255E', '\\u255F',\n",
    "        '\\u255A', '\\u2554', '\\u2569', '\\u2566', '\\u2560', '\\u2550', '\\u256C', '\\u2567',\n",
    "        '\\u2568', '\\u2564', '\\u2565', '\\u2559', '\\u2558', '\\u2552', '\\u2553', '\\u256B',\n",
    "        '\\u256A', '\\u2518', '\\u250C', '\\u2588', '\\u2584', '\\u258C', '\\u2590', '\\u2580',\n",
    "        '\\u03B1', '\\u00DF', '\\u0393', '\\u03C0', '\\u03A3', '\\u03C3', '\\u00B5', '\\u03C4',\n",
    "        '\\u03A6', '\\u0398', '\\u03A9', '\\u03B4', '\\u221E', '\\u03C6', '\\u03B5', '\\u2229',\n",
    "        '\\u2261', '\\u00B1', '\\u2265', '\\u2264', '\\u2320', '\\u2321', '\\u00F7', '\\u2248',\n",
    "        '\\u00B0', '\\u2219', '\\u00B7', '\\u221A', '\\u207F', '\\u00B2', '\\u25A0', '\\u00A0'\n",
    "    ]\n",
    "\n",
    "    if 0x80 <= code <= 0xFF:\n",
    "        return EXTENDED[code - 0x80]\n",
    "    else:\n",
    "        return chr(code)\n",
    "\n",
    "chr(0x2764)\n"
   ]
  },
  {
   "cell_type": "code",
   "execution_count": 3,
   "id": "2bf8c633-d45b-473e-8218-adc8772f7c44",
   "metadata": {},
   "outputs": [],
   "source": [
    "def mensagem():\n",
    "    print(\"----------- \", chr(0x1F3B2), chr(0x1F3B2), \"Bem vindo ao nosso jogo de forca\", chr(0x1F3B2), chr(0x1F3B2), \"-----------\")\n",
    "    print(\"----------------\", chr(0x1F3AF), \"Temos as seguintes categorias\", chr(0x1F3AF), \"----------------\")\n",
    "    print(chr(0x1F30F), \"Países\")\n",
    "    print(chr(0x1F98B), \"Animais\")\n",
    "    print(chr(0x1F367), \"Comida\")\n",
    "\n",
    "    categoria = input(\"\")\n",
    "\n",
    "    verificar(categoria)\n",
    "    "
   ]
  },
  {
   "cell_type": "code",
   "execution_count": 4,
   "id": "3670a9e3-2ffc-47e6-a6f2-be76a72865c9",
   "metadata": {},
   "outputs": [],
   "source": [
    "# Função verificar escolha\n",
    "import random\n",
    "def verificar(categoria):\n",
    "    categoria = categoria.upper()\n",
    "\n",
    "    if categoria == \"PAÍSES\":\n",
    "        lista_palavras = random.choice([\"ALBANIA\", \"GUATEMALA\", \"HONDURAS\", \"ANGOLA\", \"ARABIA SAUDITA\", \"AUSTRIA\", \"CABO VERDE\", \n",
    "                                       \"CONGO\", \"SINGAPURA\", \"FILIPINAS\"])\n",
    "    else:\n",
    "        if categoria == \"ANIMAIS\":\n",
    "            lista_palavras = random.choice([\"JIBOIA\", \"CAMALEAO\", \"FORMIGA\", \"CAPIVARA\", \"ANTA\", \"JAGUATIRICA\", \"GAMBA\", \"GOLFINHO\", \n",
    "                                           \"LEAO MARINHO\", \"CORVO\"])\n",
    "\n",
    "        else:\n",
    "            if categoria == \"COMIDA\":\n",
    "                lista_palavras = random.choice([\"SUSHI\", \"MACARRONADA\", \"FEIJOADA\", \"GELATINA\", \"HAMBURGUER\", \"SORVETE\", \"COXINHA\", \"PASTEL\", \n",
    "                                                \"MOQUECA\", \"PAO DE QUEIJO\"])\n",
    "\n",
    "    # DEFININDO AS VARIÁVEIS \n",
    "    palavra_forca.clear()\n",
    "    palavras_adivinhadas.clear()\n",
    "    letra = \"\"\n",
    "    qtd_letra = 0\n",
    "    escolha = 1\n",
    "    chute = \"\"\n",
    "    jogo(lista_palavras)"
   ]
  },
  {
   "cell_type": "code",
   "execution_count": 5,
   "id": "d365f15b-d898-4fa3-b066-80d6a7a77b69",
   "metadata": {},
   "outputs": [],
   "source": [
    "def cria(lista_palavras):\n",
    "    tamanho = len(lista_palavras)\n",
    "    for i in range(tamanho):\n",
    "        palavra_forca.append(\" _ \")\n",
    "        i = i + 1"
   ]
  },
  {
   "cell_type": "code",
   "execution_count": 6,
   "id": "ff03a315-20be-409d-b515-16c6d30fb7b9",
   "metadata": {},
   "outputs": [],
   "source": [
    "def jogo(lista_palavras):\n",
    "    n_jogadas = 0\n",
    "    tentativas = 5\n",
    "    cria(lista_palavras)\n",
    "\n",
    "    print(palavra_forca)\n",
    "    \n",
    "    while n_jogadas < 5:\n",
    "        # Pergunta \n",
    "        print(\" \")\n",
    "        print(\"Tentativas \", tentativas)\n",
    "        letra = input(\"Informe a letra\")\n",
    "        letra = letra.upper()\n",
    "\n",
    "        tentativas = tentativas - 1\n",
    "        \n",
    "        # Verifica se tem a letra \n",
    "        qtd_letra = len(re.findall(letra, lista_palavras))\n",
    "\n",
    "        if qtd_letra != 0:\n",
    "            posicao = 0\n",
    "            for i in lista_palavras:\n",
    "                if letra == i:\n",
    "                    palavra_forca[posicao] = letra\n",
    "                posicao = posicao  + 1\n",
    "                \n",
    "        print(palavra_forca)\n",
    "        print(\" \")\n",
    "        chute = input(\"Informe seu chute\")\n",
    "        chute = chute.upper()\n",
    "\n",
    "        if chute == lista_palavras:\n",
    "            print(\" \")\n",
    "            print(\"Parabéns você venceu!!\")\n",
    "            break\n",
    "\n",
    "        else:\n",
    "            n_jogadas = n_jogadas + 1\n",
    "    if n_jogadas == 5:\n",
    "        print(\"Você perdeu a palavra era \", lista_palavras)\n",
    "    continuar_jogando()"
   ]
  },
  {
   "cell_type": "code",
   "execution_count": 7,
   "id": "20e07ed9-b422-4fd9-8fb7-74a3ed0c9908",
   "metadata": {},
   "outputs": [],
   "source": [
    "# Verifica se quer jogar de novo\n",
    "def continuar_jogando():\n",
    "    print(\"------------------\" ,chr(0x1F501), \"Deseja jogar novamente?\",chr(0x1F501),\"------------------\")\n",
    "    print(chr(0x2705), \"Sim\")\n",
    "    print(chr(0x274E), \"Não\")\n",
    "    escolha = input(\" \")\n",
    "    if escolha == \"Sim\":\n",
    "        print(\"------------\", chr(0x1F3AF), \"Qual categoria você quer jogar dessa vez\", chr(0x1F3AF), \"-----------\")\n",
    "        print(chr(0x1F30F), \"Países\")\n",
    "        print(chr(0x1F98B), \"Animais\")\n",
    "        print(chr(0x1F367), \"Comida\")\n",
    "        \n",
    "        categoria = input(\"\")\n",
    "        verificar(categoria)\n",
    "\n",
    "    else:\n",
    "        print(\"                    \",chr(0x1F136), chr(0x1F130), chr(0x1F13C), chr(0x1F134), \" \", chr(0x1F13E), chr(0x1F145), chr(0x1F134), chr(0x1F141))\n",
    "            "
   ]
  },
  {
   "cell_type": "code",
   "execution_count": null,
   "id": "d76abeb9-8ce5-422a-bf30-32946b9472f8",
   "metadata": {},
   "outputs": [
    {
     "name": "stdout",
     "output_type": "stream",
     "text": [
      "-----------  🎲 🎲 Bem vindo ao nosso jogo de forca 🎲 🎲 -----------\n",
      "---------------- 🎯 Temos as seguintes categorias 🎯 ----------------\n",
      "🌏 Países\n",
      "🦋 Animais\n",
      "🍧 Comida\n"
     ]
    },
    {
     "name": "stdin",
     "output_type": "stream",
     "text": [
      " Comida\n"
     ]
    },
    {
     "name": "stdout",
     "output_type": "stream",
     "text": [
      "[' _ ', ' _ ', ' _ ', ' _ ', ' _ ', ' _ ', ' _ ']\n",
      " \n",
      "Tentativas  5\n"
     ]
    },
    {
     "name": "stdin",
     "output_type": "stream",
     "text": [
      "Informe a letra e\n"
     ]
    },
    {
     "name": "stdout",
     "output_type": "stream",
     "text": [
      "[' _ ', ' _ ', ' _ ', ' _ ', 'E', ' _ ', ' _ ']\n",
      " \n"
     ]
    },
    {
     "name": "stdin",
     "output_type": "stream",
     "text": [
      "Informe seu chute e\n"
     ]
    },
    {
     "name": "stdout",
     "output_type": "stream",
     "text": [
      " \n",
      "Tentativas  4\n"
     ]
    },
    {
     "name": "stdin",
     "output_type": "stream",
     "text": [
      "Informe a letra e\n"
     ]
    },
    {
     "name": "stdout",
     "output_type": "stream",
     "text": [
      "[' _ ', ' _ ', ' _ ', ' _ ', 'E', ' _ ', ' _ ']\n",
      " \n"
     ]
    },
    {
     "name": "stdin",
     "output_type": "stream",
     "text": [
      "Informe seu chute e\n"
     ]
    },
    {
     "name": "stdout",
     "output_type": "stream",
     "text": [
      " \n",
      "Tentativas  3\n"
     ]
    },
    {
     "name": "stdin",
     "output_type": "stream",
     "text": [
      "Informe a letra e\n"
     ]
    },
    {
     "name": "stdout",
     "output_type": "stream",
     "text": [
      "[' _ ', ' _ ', ' _ ', ' _ ', 'E', ' _ ', ' _ ']\n",
      " \n"
     ]
    },
    {
     "name": "stdin",
     "output_type": "stream",
     "text": [
      "Informe seu chute e\n"
     ]
    },
    {
     "name": "stdout",
     "output_type": "stream",
     "text": [
      " \n",
      "Tentativas  2\n"
     ]
    },
    {
     "name": "stdin",
     "output_type": "stream",
     "text": [
      "Informe a letra e\n"
     ]
    },
    {
     "name": "stdout",
     "output_type": "stream",
     "text": [
      "[' _ ', ' _ ', ' _ ', ' _ ', 'E', ' _ ', ' _ ']\n",
      " \n"
     ]
    },
    {
     "name": "stdin",
     "output_type": "stream",
     "text": [
      "Informe seu chute e\n"
     ]
    },
    {
     "name": "stdout",
     "output_type": "stream",
     "text": [
      " \n",
      "Tentativas  1\n"
     ]
    },
    {
     "name": "stdin",
     "output_type": "stream",
     "text": [
      "Informe a letra e\n"
     ]
    },
    {
     "name": "stdout",
     "output_type": "stream",
     "text": [
      "[' _ ', ' _ ', ' _ ', ' _ ', 'E', ' _ ', ' _ ']\n",
      " \n"
     ]
    },
    {
     "name": "stdin",
     "output_type": "stream",
     "text": [
      "Informe seu chute w\n"
     ]
    },
    {
     "name": "stdout",
     "output_type": "stream",
     "text": [
      "Você perdeu a palavra era  MOQUECA\n",
      "------------------ 🔁 Deseja jogar novamente? 🔁 ------------------\n",
      "✅ Sim\n",
      "❎ Não\n"
     ]
    },
    {
     "name": "stdin",
     "output_type": "stream",
     "text": [
      "  Sim\n"
     ]
    },
    {
     "name": "stdout",
     "output_type": "stream",
     "text": [
      "------------ 🎯 Qual categoria você quer jogar dessa vez 🎯 -----------\n",
      "🌏 Países\n",
      "🦋 Animais\n",
      "🍧 Comida\n"
     ]
    },
    {
     "name": "stdin",
     "output_type": "stream",
     "text": [
      " Países\n"
     ]
    },
    {
     "name": "stdout",
     "output_type": "stream",
     "text": [
      "[' _ ', ' _ ', ' _ ', ' _ ', ' _ ']\n",
      " \n",
      "Tentativas  5\n"
     ]
    },
    {
     "name": "stdin",
     "output_type": "stream",
     "text": [
      "Informe a letra e\n"
     ]
    },
    {
     "name": "stdout",
     "output_type": "stream",
     "text": [
      "[' _ ', ' _ ', ' _ ', ' _ ', ' _ ']\n",
      " \n"
     ]
    },
    {
     "name": "stdin",
     "output_type": "stream",
     "text": [
      "Informe seu chute r\n"
     ]
    },
    {
     "name": "stdout",
     "output_type": "stream",
     "text": [
      " \n",
      "Tentativas  4\n"
     ]
    },
    {
     "name": "stdin",
     "output_type": "stream",
     "text": [
      "Informe a letra e\n"
     ]
    },
    {
     "name": "stdout",
     "output_type": "stream",
     "text": [
      "[' _ ', ' _ ', ' _ ', ' _ ', ' _ ']\n",
      " \n"
     ]
    },
    {
     "name": "stdin",
     "output_type": "stream",
     "text": [
      "Informe seu chute w\n"
     ]
    },
    {
     "name": "stdout",
     "output_type": "stream",
     "text": [
      " \n",
      "Tentativas  3\n"
     ]
    },
    {
     "name": "stdin",
     "output_type": "stream",
     "text": [
      "Informe a letra q\n"
     ]
    },
    {
     "name": "stdout",
     "output_type": "stream",
     "text": [
      "[' _ ', ' _ ', ' _ ', ' _ ', ' _ ']\n",
      " \n"
     ]
    }
   ],
   "source": [
    "# Começa em mensagem \n",
    "mensagem()"
   ]
  },
  {
   "cell_type": "code",
   "execution_count": null,
   "id": "b8158059-0841-4aa3-9296-dd47ab194c72",
   "metadata": {},
   "outputs": [],
   "source": []
  }
 ],
 "metadata": {
  "kernelspec": {
   "display_name": "Python 3 (ipykernel)",
   "language": "python",
   "name": "python3"
  },
  "language_info": {
   "codemirror_mode": {
    "name": "ipython",
    "version": 3
   },
   "file_extension": ".py",
   "mimetype": "text/x-python",
   "name": "python",
   "nbconvert_exporter": "python",
   "pygments_lexer": "ipython3",
   "version": "3.12.7"
  }
 },
 "nbformat": 4,
 "nbformat_minor": 5
}
